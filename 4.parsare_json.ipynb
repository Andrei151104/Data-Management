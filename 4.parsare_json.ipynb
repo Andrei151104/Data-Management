{
 "cells": [
  {
   "cell_type": "code",
   "execution_count": 5,
   "metadata": {},
   "outputs": [
    {
     "name": "stdout",
     "output_type": "stream",
     "text": [
      "{'groups': [{'name': 'Group A',\n",
      "             'teams': [{'code': 'HUN', 'name': 'Hungary'},\n",
      "                       {'code': 'SUI', 'name': 'Switzerland'},\n",
      "                       {'code': 'GER', 'name': 'Germany'},\n",
      "                       {'code': 'SCO', 'name': 'Scotland'}]},\n",
      "            {'name': 'Group B',\n",
      "             'teams': [{'code': 'ESP', 'name': 'Spain'},\n",
      "                       {'code': 'ITA', 'name': 'Italy'},\n",
      "                       {'code': 'CRO', 'name': 'Croatia'},\n",
      "                       {'code': 'ALB', 'name': 'Albania'}]},\n",
      "            {'name': 'Group C',\n",
      "             'teams': [{'code': 'DEN', 'name': 'Denmark'},\n",
      "                       {'code': 'ENG', 'name': 'England'},\n",
      "                       {'code': 'SVN', 'name': 'Slovenia'},\n",
      "                       {'code': 'SRB', 'name': 'Serbia'}]},\n",
      "            {'name': 'Group D',\n",
      "             'teams': [{'code': 'FRA', 'name': 'France'},\n",
      "                       {'code': 'AUT', 'name': 'Austria'},\n",
      "                       {'code': 'POL', 'name': 'Poland'},\n",
      "                       {'code': 'NED', 'name': 'Netherlands'}]},\n",
      "            {'name': 'Group E',\n",
      "             'teams': [{'code': 'ROU', 'name': 'Romania'},\n",
      "                       {'code': 'UKR', 'name': 'Ukraine'}]}],\n",
      " 'name': 'Euro 2024'}\n"
     ]
    }
   ],
   "source": [
    "tara_cautata = \"Romania\"\n",
    "\n",
    "pprint(continut_parsat)"
   ]
  },
  {
   "cell_type": "code",
   "execution_count": 4,
   "metadata": {},
   "outputs": [
    {
     "name": "stdout",
     "output_type": "stream",
     "text": [
      "dict_keys(['name', 'groups'])\n"
     ]
    }
   ],
   "source": [
    "print(continut_parsat.keys())"
   ]
  },
  {
   "cell_type": "code",
   "execution_count": 7,
   "metadata": {},
   "outputs": [
    {
     "name": "stdout",
     "output_type": "stream",
     "text": [
      "<class 'dict'>\n",
      "[{'code': 'HUN', 'name': 'Hungary'},\n",
      " {'code': 'SUI', 'name': 'Switzerland'},\n",
      " {'code': 'GER', 'name': 'Germany'},\n",
      " {'code': 'SCO', 'name': 'Scotland'}]\n",
      "<class 'dict'>\n",
      "{'code': 'HUN', 'name': 'Hungary'}\n",
      "<class 'dict'>\n",
      "{'code': 'SUI', 'name': 'Switzerland'}\n",
      "<class 'dict'>\n",
      "{'code': 'GER', 'name': 'Germany'}\n",
      "<class 'dict'>\n",
      "{'code': 'SCO', 'name': 'Scotland'}\n",
      "<class 'dict'>\n",
      "[{'code': 'ESP', 'name': 'Spain'},\n",
      " {'code': 'ITA', 'name': 'Italy'},\n",
      " {'code': 'CRO', 'name': 'Croatia'},\n",
      " {'code': 'ALB', 'name': 'Albania'}]\n",
      "<class 'dict'>\n",
      "{'code': 'ESP', 'name': 'Spain'}\n",
      "<class 'dict'>\n",
      "{'code': 'ITA', 'name': 'Italy'}\n",
      "<class 'dict'>\n",
      "{'code': 'CRO', 'name': 'Croatia'}\n",
      "<class 'dict'>\n",
      "{'code': 'ALB', 'name': 'Albania'}\n",
      "<class 'dict'>\n",
      "[{'code': 'DEN', 'name': 'Denmark'},\n",
      " {'code': 'ENG', 'name': 'England'},\n",
      " {'code': 'SVN', 'name': 'Slovenia'},\n",
      " {'code': 'SRB', 'name': 'Serbia'}]\n",
      "<class 'dict'>\n",
      "{'code': 'DEN', 'name': 'Denmark'}\n",
      "<class 'dict'>\n",
      "{'code': 'ENG', 'name': 'England'}\n",
      "<class 'dict'>\n",
      "{'code': 'SVN', 'name': 'Slovenia'}\n",
      "<class 'dict'>\n",
      "{'code': 'SRB', 'name': 'Serbia'}\n",
      "<class 'dict'>\n",
      "[{'code': 'FRA', 'name': 'France'},\n",
      " {'code': 'AUT', 'name': 'Austria'},\n",
      " {'code': 'POL', 'name': 'Poland'},\n",
      " {'code': 'NED', 'name': 'Netherlands'}]\n",
      "<class 'dict'>\n",
      "{'code': 'FRA', 'name': 'France'}\n",
      "<class 'dict'>\n",
      "{'code': 'AUT', 'name': 'Austria'}\n",
      "<class 'dict'>\n",
      "{'code': 'POL', 'name': 'Poland'}\n",
      "<class 'dict'>\n",
      "{'code': 'NED', 'name': 'Netherlands'}\n",
      "<class 'dict'>\n",
      "[{'code': 'ROU', 'name': 'Romania'}, {'code': 'UKR', 'name': 'Ukraine'}]\n",
      "<class 'dict'>\n",
      "{'code': 'ROU', 'name': 'Romania'}\n",
      "Romania se afla in grupa Group E\n"
     ]
    }
   ],
   "source": [
    "groups = continut_parsat[\"groups\"]\n",
    "for gr in groups:\n",
    "    print(type(gr))\n",
    "    pprint(gr[\"teams\"])\n",
    "    for team in gr[\"teams\"]:\n",
    "        print(type(team))\n",
    "        pprint(team)\n",
    "        if team[\"name\"] == tara_cautata:\n",
    "            print(f\"{tara_cautata} se afla in grupa {gr['name']}\")\n",
    "            break"
   ]
  },
  {
   "cell_type": "code",
   "execution_count": 2,
   "metadata": {},
   "outputs": [
    {
     "name": "stdout",
     "output_type": "stream",
     "text": [
      "<class 'dict'> {'name': 'Euro 2024', 'groups': [{'name': 'Group A', 'teams': [{'name': 'Hungary', 'code': 'HUN'}, {'name': 'Switzerland', 'code': 'SUI'}, {'name': 'Germany', 'code': 'GER'}, {'name': 'Scotland', 'code': 'SCO'}]}, {'name': 'Group B', 'teams': [{'name': 'Spain', 'code': 'ESP'}, {'name': 'Italy', 'code': 'ITA'}, {'name': 'Croatia', 'code': 'CRO'}, {'name': 'Albania', 'code': 'ALB'}]}, {'name': 'Group C', 'teams': [{'name': 'Denmark', 'code': 'DEN'}, {'name': 'England', 'code': 'ENG'}, {'name': 'Slovenia', 'code': 'SVN'}, {'name': 'Serbia', 'code': 'SRB'}]}, {'name': 'Group D', 'teams': [{'name': 'France', 'code': 'FRA'}, {'name': 'Austria', 'code': 'AUT'}, {'name': 'Poland', 'code': 'POL'}, {'name': 'Netherlands', 'code': 'NED'}]}, {'name': 'Group E', 'teams': [{'name': 'Romania', 'code': 'ROU'}, {'name': 'Ukraine', 'code': 'UKR'}]}]}\n"
     ]
    }
   ],
   "source": [
    "with open(\"euro_2024.json\") as file_handler:\n",
    "    continut_parsat = json.load(file_handler)\n",
    "    print(type(continut_parsat),continut_parsat)"
   ]
  },
  {
   "cell_type": "code",
   "execution_count": 1,
   "metadata": {},
   "outputs": [],
   "source": [
    "import json\n",
    "from pprint import pprint"
   ]
  }
 ],
 "metadata": {
  "kernelspec": {
   "display_name": "Python 3",
   "language": "python",
   "name": "python3"
  },
  "language_info": {
   "codemirror_mode": {
    "name": "ipython",
    "version": 3
   },
   "file_extension": ".py",
   "mimetype": "text/x-python",
   "name": "python",
   "nbconvert_exporter": "python",
   "pygments_lexer": "ipython3",
   "version": "3.11.9"
  }
 },
 "nbformat": 4,
 "nbformat_minor": 2
}
